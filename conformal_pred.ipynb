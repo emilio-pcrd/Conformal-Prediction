{
 "cells": [
  {
   "cell_type": "code",
   "execution_count": 1,
   "id": "e6d2ad62",
   "metadata": {},
   "outputs": [],
   "source": [
    "import numpy as np\n",
    "import matplotlib.pyplot as plt\n",
    "from scipy import stats"
   ]
  },
  {
   "cell_type": "code",
   "execution_count": 2,
   "id": "00ab7b1b",
   "metadata": {},
   "outputs": [],
   "source": [
    "# Generation des donnees\n",
    "np.random.seed(1)\n",
    "n = 50\n",
    "X_train = np.random.rand(n,1)\n",
    "beta_0 = 7\n",
    "Y_train = X_train*beta_0 + 0.5*np.random.randn(n,1)"
   ]
  },
  {
   "cell_type": "code",
   "execution_count": 3,
   "id": "d70c1278",
   "metadata": {},
   "outputs": [
    {
     "data": {
      "text/plain": [
       "(50, 1)"
      ]
     },
     "execution_count": 3,
     "metadata": {},
     "output_type": "execute_result"
    }
   ],
   "source": [
    "X_train.shape"
   ]
  },
  {
   "cell_type": "code",
   "execution_count": 4,
   "id": "ef5b971b",
   "metadata": {},
   "outputs": [
    {
     "data": {
      "text/plain": [
       "(50, 1)"
      ]
     },
     "execution_count": 4,
     "metadata": {},
     "output_type": "execute_result"
    }
   ],
   "source": [
    "Y_train.shape"
   ]
  },
  {
   "cell_type": "code",
   "execution_count": 5,
   "id": "fbe6f283",
   "metadata": {},
   "outputs": [],
   "source": [
    "#MCO LINEAR REGRESSION"
   ]
  },
  {
   "cell_type": "code",
   "execution_count": 6,
   "id": "3578b9f7",
   "metadata": {},
   "outputs": [
    {
     "data": {
      "text/plain": [
       "LinearRegression()"
      ]
     },
     "execution_count": 6,
     "metadata": {},
     "output_type": "execute_result"
    }
   ],
   "source": [
    "from sklearn.linear_model import LinearRegression\n",
    "\n",
    "reg_OLS = LinearRegression()\n",
    "reg_OLS.fit(X_train,Y_train)"
   ]
  },
  {
   "cell_type": "code",
   "execution_count": 7,
   "id": "076f2eba",
   "metadata": {},
   "outputs": [],
   "source": [
    "def score(x):\n",
    "    R = abs(Y_train-reg_OLS.predict(X_train))\n",
    "    F=0\n",
    "    for i in range(len(R)):\n",
    "        F+= R[i]<= x\n",
    "    return F/len(R)\n",
    "\n",
    "def quantile(p):\n",
    "    x=np.linspace(0,2,1000)\n",
    "    l=[]\n",
    "    for i in x:\n",
    "        if score(i) >= p:\n",
    "            l.append(i)\n",
    "    return np.min(l)"
   ]
  },
  {
   "cell_type": "code",
   "execution_count": 8,
   "id": "21cebf24",
   "metadata": {},
   "outputs": [
    {
     "data": {
      "image/png": "[encoded data removed]",
      "text/plain": [
       "<Figure size 432x288 with 1 Axes>"
      ]
     },
     "metadata": {
      "needs_background": "light"
     },
     "output_type": "display_data"
    },
    {
     "data": {
      "text/plain": [
       "<Figure size 864x576 with 0 Axes>"
      ]
     },
     "metadata": {},
     "output_type": "display_data"
    }
   ],
   "source": [
    "plt.scatter(X_train,Y_train,marker='x',color='b',alpha=.3, label='($X_{train}$,$Y_{train}$)')\n",
    "plt.plot(X_train,reg_OLS.predict(X_train),color='red', label='$Y_{estimated}$')\n",
    "\n",
    "#Construction de l'Intervalle de confiance\n",
    "low = reg_OLS.predict(X_train) - quantile(0.90)\n",
    "high = reg_OLS.predict(X_train) + quantile(0.90)\n",
    "\n",
    "plt.plot(X_train,low, color='green',alpha=.5, label='Intervale de confiance')\n",
    "plt.plot(X_train,high, color='green',alpha=.5)\n",
    "\n",
    "#Observations de nos (X_test,Y_test)\n",
    "\n",
    "n_test=20\n",
    "X_test = np.random.rand(n_test,1)\n",
    "Y_test = X_test*beta_0+0.5*np.random.randn(n_test,1)\n",
    "\n",
    "plt.scatter(X_test,Y_test,color='orange',label='($X_{test},Y_{test}$)')\n",
    "\n",
    "\n",
    "plt.legend()\n",
    "plt.figure(figsize=(12,8))\n",
    "plt.show()"
   ]
  },
  {
   "cell_type": "code",
   "execution_count": 2,
   "id": "596d5ee9",
   "metadata": {},
   "outputs": [],
   "source": [
    "# kNN k-nearest neighbours (k= 5 ou 9)"
   ]
  },
  {
   "cell_type": "code",
   "execution_count": null,
   "id": "53eb2114",
   "metadata": {},
   "outputs": [],
   "source": []
  }
 ],
 "metadata": {
  "kernelspec": {
   "display_name": "Python 3",
   "language": "python",
   "name": "python3"
  },
  "language_info": {
   "codemirror_mode": {
    "name": "ipython",
    "version": 3
   },
   "file_extension": ".py",
   "mimetype": "text/x-python",
   "name": "python",
   "nbconvert_exporter": "python",
   "pygments_lexer": "ipython3",
   "version": "3.8.8"
  }
 },
 "nbformat": 4,
 "nbformat_minor": 5
}
